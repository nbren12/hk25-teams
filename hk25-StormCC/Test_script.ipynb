{
 "cells": [
  {
   "cell_type": "markdown",
   "id": "4897e1e9",
   "metadata": {},
   "source": []
  },
  {
   "cell_type": "markdown",
   "id": "cf58b320",
   "metadata": {},
   "source": [
    "Test script to run the existing tutorial"
   ]
  },
  {
   "cell_type": "code",
   "execution_count": 2,
   "id": "9af8ab56",
   "metadata": {},
   "outputs": [],
   "source": [
    "import intake\n",
    "from easygems import healpix as egh\n",
    "\n",
    "import matplotlib.pyplot as plt\n",
    "import warnings"
   ]
  },
  {
   "cell_type": "code",
   "execution_count": 4,
   "id": "35642fa5",
   "metadata": {},
   "outputs": [
    {
     "data": {
      "text/plain": [
       "['CN', 'EU', 'JAPAN', 'NCAR', 'NERSC', 'UK', 'online']"
      ]
     },
     "execution_count": 4,
     "metadata": {},
     "output_type": "execute_result"
    }
   ],
   "source": [
    "list(intake.open_catalog(\"https://digital-earths-global-hackathon.github.io/catalog/catalog.yaml\"))"
   ]
  },
  {
   "cell_type": "code",
   "execution_count": 5,
   "id": "455ca178",
   "metadata": {},
   "outputs": [],
   "source": [
    "current_location = \"online\"\n",
    "cat = intake.open_catalog(\"https://digital-earths-global-hackathon.github.io/catalog/catalog.yaml\")[current_location]"
   ]
  },
  {
   "cell_type": "code",
   "execution_count": null,
   "id": "1e7f8efa",
   "metadata": {},
   "outputs": [],
   "source": []
  }
 ],
 "metadata": {
  "kernelspec": {
   "display_name": "sree_jup",
   "language": "python",
   "name": "python3"
  },
  "language_info": {
   "codemirror_mode": {
    "name": "ipython",
    "version": 3
   },
   "file_extension": ".py",
   "mimetype": "text/x-python",
   "name": "python",
   "nbconvert_exporter": "python",
   "pygments_lexer": "ipython3",
   "version": "3.13.3"
  }
 },
 "nbformat": 4,
 "nbformat_minor": 5
}
